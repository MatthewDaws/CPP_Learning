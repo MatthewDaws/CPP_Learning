{
 "metadata": {
  "name": "",
  "signature": "sha256:2c37ce86c622036f9c531d2077268fa49db6527102cf5809127609fd6e10099b"
 },
 "nbformat": 3,
 "nbformat_minor": 0,
 "worksheets": [
  {
   "cells": [
    {
     "cell_type": "code",
     "collapsed": false,
     "input": [
      "%matplotlib inline\n",
      "import matplotlib.pyplot as plt"
     ],
     "language": "python",
     "metadata": {},
     "outputs": [],
     "prompt_number": 1
    },
    {
     "cell_type": "markdown",
     "metadata": {},
     "source": [
      "Uses demo.asm and adds extra `nop`s to move alignment of start of the loop.\n",
      "\n",
      "Assumes the loop we're interested starts on line 141.  You should also manually remove the `.p2align` command before this."
     ]
    },
    {
     "cell_type": "code",
     "collapsed": false,
     "input": [
      "magic_line = 141\n",
      "\n",
      "def make_temp_asm_file(nops):\n",
      "    with open(\"demo.asm\") as f:\n",
      "        with open(\"temp.asm\", mode='w') as outf:\n",
      "            for index, line in enumerate(f):\n",
      "                outf.write(line)\n",
      "                if index == magic_line - 2:\n",
      "                    break\n",
      "            for n in range(nops):\n",
      "                outf.write(\"\\tnop\\n\")\n",
      "            # Skip `.p2align` line\n",
      "            f.readline()\n",
      "            for line in f:\n",
      "                outf.write(line)\n",
      "                \n",
      "# Test\n",
      "#make_temp_asm_file(2)"
     ],
     "language": "python",
     "metadata": {},
     "outputs": [],
     "prompt_number": 2
    },
    {
     "cell_type": "markdown",
     "metadata": {},
     "source": [
      "To run external programmes, the best way seems to be to use the subprocess module:  https://docs.python.org/3.4/library/subprocess.html\n",
      "\n",
      "I've chosen to direct the output of `temp.exe` to a file, whereas maybe I could use `Popen`: but I don't want python processing interfereing with the child process.  Maybe I should use `check_output` instead..."
     ]
    },
    {
     "cell_type": "code",
     "collapsed": false,
     "input": [
      "import subprocess\n",
      "import os\n",
      "\n",
      "def run_test():\n",
      "    \"\"\"run_test: assembles, links and runs temp.asm\n",
      "    returns best and average time\n",
      "    assumes temp.exe prints the time as the first thing on each line\"\"\"\n",
      "    with open(\"temp.txt\",\"w\") as output:\n",
      "        if subprocess.call(\"as temp.asm -o temp.o\",stdout=output) != 0:\n",
      "            raise Exception(\"Failed to assmeble\")\n",
      "\n",
      "    # Pause for a moment to wait for the filesystem to catchup\n",
      "    # Stops a bug at least on my Windows laptop\n",
      "    import time\n",
      "    time.sleep(0.2)\n",
      "    with open(\"temp.txt\",\"w\") as output:\n",
      "        if subprocess.call(\"g++ temp.o -o temp.exe\",stdout=output) != 0:\n",
      "            raise Exception(\"Failed to link\")\n",
      "\n",
      "    with open(\"temp.txt\",\"w\") as output:\n",
      "        if subprocess.call(\"temp\",stdout=output) != 0:\n",
      "            raise Exception(\"Failed to run\")\n",
      "\n",
      "    average = 0.0\n",
      "    best = 0.0\n",
      "    with open(\"temp.txt\") as input:\n",
      "        count = 0\n",
      "        for index, line in enumerate(input):\n",
      "            data = line.split()\n",
      "            time = float(data[0])\n",
      "            average += time\n",
      "            if index == 0 or time < best : best = time\n",
      "            count += 1\n",
      "        average = average / count\n",
      "    \n",
      "    os.remove(\"temp.asm\")\n",
      "    os.remove(\"temp.o\")\n",
      "    os.remove(\"temp.exe\")\n",
      "    os.remove(\"temp.txt\")\n",
      "    \n",
      "    return (best,average)"
     ],
     "language": "python",
     "metadata": {},
     "outputs": [],
     "prompt_number": 3
    },
    {
     "cell_type": "code",
     "collapsed": false,
     "input": [
      "results = []\n",
      "\n",
      "for nops in range(100):\n",
      "    make_temp_asm_file(nops)\n",
      "    b,a = run_test()\n",
      "    print(nops,\"-->\",b,a)\n",
      "    results.append(b)\n",
      "    \n",
      "print(\"Time range:\",min(results),max(results))\n",
      "\n",
      "print(\"% variation: \",(max(results)-min(results))/min(results)*100)\n",
      "\n",
      "# Make ordered list\n",
      "x = list( enumerate(results) )\n",
      "import operator\n",
      "x.sort(key=operator.itemgetter(1)) # Sort on 2nd item of each tuple in list\n",
      "\n",
      "# Manual CDF plot\n",
      "xvalues = []\n",
      "yvalues = []\n",
      "count = 0\n",
      "for (nops,ti) in x:\n",
      "    xvalues.append(ti)\n",
      "    count += 1\n",
      "    yvalues.append(count)\n",
      "\n",
      "plt.plot(xvalues, yvalues)"
     ],
     "language": "python",
     "metadata": {},
     "outputs": [
      {
       "output_type": "stream",
       "stream": "stdout",
       "text": [
        "0 --> 0.401659 0.40795640000000005\n",
        "1"
       ]
      },
      {
       "output_type": "stream",
       "stream": "stdout",
       "text": [
        " --> 0.402321 0.4116505999999999\n",
        "2"
       ]
      },
      {
       "output_type": "stream",
       "stream": "stdout",
       "text": [
        " --> 0.401258 0.4037712\n",
        "3"
       ]
      },
      {
       "output_type": "stream",
       "stream": "stdout",
       "text": [
        " --> 0.401053 0.40559880000000004\n",
        "4"
       ]
      },
      {
       "output_type": "stream",
       "stream": "stdout",
       "text": [
        " --> 0.401296 0.4035306\n",
        "5"
       ]
      },
      {
       "output_type": "stream",
       "stream": "stdout",
       "text": [
        " --> 0.401136 0.40250719999999995\n",
        "6"
       ]
      },
      {
       "output_type": "stream",
       "stream": "stdout",
       "text": [
        " --> 0.400304 0.40343359999999995\n",
        "7"
       ]
      },
      {
       "output_type": "stream",
       "stream": "stdout",
       "text": [
        " --> 0.401342 0.4042496\n",
        "8"
       ]
      },
      {
       "output_type": "stream",
       "stream": "stdout",
       "text": [
        " --> 0.405736 0.4068638\n",
        "9"
       ]
      },
      {
       "output_type": "stream",
       "stream": "stdout",
       "text": [
        " --> 0.402172 0.4068902\n",
        "10"
       ]
      },
      {
       "output_type": "stream",
       "stream": "stdout",
       "text": [
        " --> 0.40173 0.40671859999999993\n",
        "11"
       ]
      },
      {
       "output_type": "stream",
       "stream": "stdout",
       "text": [
        " --> 0.401614 0.4059574\n",
        "12"
       ]
      },
      {
       "output_type": "stream",
       "stream": "stdout",
       "text": [
        " --> 0.401812 0.40420860000000003\n",
        "13"
       ]
      },
      {
       "output_type": "stream",
       "stream": "stdout",
       "text": [
        " --> 0.401647 0.4057334\n",
        "14"
       ]
      },
      {
       "output_type": "stream",
       "stream": "stdout",
       "text": [
        " --> 0.401234 0.4024444\n",
        "15"
       ]
      },
      {
       "output_type": "stream",
       "stream": "stdout",
       "text": [
        " --> 0.401872 0.40347800000000006\n",
        "16"
       ]
      },
      {
       "output_type": "stream",
       "stream": "stdout",
       "text": [
        " --> 0.382553 0.384385\n",
        "17"
       ]
      },
      {
       "output_type": "stream",
       "stream": "stdout",
       "text": [
        " --> 0.401349 0.4034826000000001\n",
        "18"
       ]
      },
      {
       "output_type": "stream",
       "stream": "stdout",
       "text": [
        " --> 0.401436 0.40458360000000004\n",
        "19"
       ]
      },
      {
       "output_type": "stream",
       "stream": "stdout",
       "text": [
        " --> 0.401402 0.40491279999999996\n",
        "20"
       ]
      },
      {
       "output_type": "stream",
       "stream": "stdout",
       "text": [
        " --> 0.401771 0.4094276\n",
        "21"
       ]
      },
      {
       "output_type": "stream",
       "stream": "stdout",
       "text": [
        " --> 0.400918 0.40329439999999994\n",
        "22"
       ]
      },
      {
       "output_type": "stream",
       "stream": "stdout",
       "text": [
        " --> 0.401646 0.404481\n",
        "23"
       ]
      },
      {
       "output_type": "stream",
       "stream": "stdout",
       "text": [
        " --> 0.401463 0.40752240000000006\n",
        "24"
       ]
      },
      {
       "output_type": "stream",
       "stream": "stdout",
       "text": [
        " --> 0.401773 0.40341380000000004\n",
        "25"
       ]
      },
      {
       "output_type": "stream",
       "stream": "stdout",
       "text": [
        " --> 0.401554 0.4036562\n",
        "26"
       ]
      },
      {
       "output_type": "stream",
       "stream": "stdout",
       "text": [
        " --> 0.401247 0.402236\n",
        "27"
       ]
      },
      {
       "output_type": "stream",
       "stream": "stdout",
       "text": [
        " --> 0.401084 0.40251840000000005\n",
        "28"
       ]
      },
      {
       "output_type": "stream",
       "stream": "stdout",
       "text": [
        " --> 0.401328 0.4024762\n",
        "29"
       ]
      },
      {
       "output_type": "stream",
       "stream": "stdout",
       "text": [
        " --> 0.397037 0.3982784\n",
        "30"
       ]
      },
      {
       "output_type": "stream",
       "stream": "stdout",
       "text": [
        " --> 0.401932 0.4105352\n",
        "31"
       ]
      },
      {
       "output_type": "stream",
       "stream": "stdout",
       "text": [
        " --> 0.400831 0.40498219999999996\n",
        "32"
       ]
      },
      {
       "output_type": "stream",
       "stream": "stdout",
       "text": [
        " --> 0.400767 0.4032102\n",
        "33"
       ]
      },
      {
       "output_type": "stream",
       "stream": "stdout",
       "text": [
        " --> 0.400887 0.4040254\n",
        "34"
       ]
      },
      {
       "output_type": "stream",
       "stream": "stdout",
       "text": [
        " --> 0.401713 0.4035672\n",
        "35"
       ]
      },
      {
       "output_type": "stream",
       "stream": "stdout",
       "text": [
        " --> 0.401594 0.40505199999999997\n",
        "36"
       ]
      },
      {
       "output_type": "stream",
       "stream": "stdout",
       "text": [
        " --> 0.401438 0.40993080000000004\n",
        "37"
       ]
      },
      {
       "output_type": "stream",
       "stream": "stdout",
       "text": [
        " --> 0.40248 0.4130522\n",
        "38"
       ]
      },
      {
       "output_type": "stream",
       "stream": "stdout",
       "text": [
        " --> 0.4015 0.40317040000000004\n",
        "39"
       ]
      },
      {
       "output_type": "stream",
       "stream": "stdout",
       "text": [
        " --> 0.401487 0.4052894\n",
        "40"
       ]
      },
      {
       "output_type": "stream",
       "stream": "stdout",
       "text": [
        " --> 0.401311 0.40342659999999997\n",
        "41"
       ]
      },
      {
       "output_type": "stream",
       "stream": "stdout",
       "text": [
        " --> 0.401176 0.40308320000000003\n",
        "42"
       ]
      },
      {
       "output_type": "stream",
       "stream": "stdout",
       "text": [
        " --> 0.403021 0.4094346\n",
        "43"
       ]
      },
      {
       "output_type": "stream",
       "stream": "stdout",
       "text": [
        " --> 0.401019 0.4046122\n",
        "44"
       ]
      },
      {
       "output_type": "stream",
       "stream": "stdout",
       "text": [
        " --> 0.401918 0.41443240000000003\n",
        "45"
       ]
      },
      {
       "output_type": "stream",
       "stream": "stdout",
       "text": [
        " --> 0.4042 0.41289999999999993\n",
        "46"
       ]
      },
      {
       "output_type": "stream",
       "stream": "stdout",
       "text": [
        " --> 0.402527 0.40779620000000005\n",
        "47"
       ]
      },
      {
       "output_type": "stream",
       "stream": "stdout",
       "text": [
        " --> 0.40071 0.4046048\n",
        "48"
       ]
      },
      {
       "output_type": "stream",
       "stream": "stdout",
       "text": [
        " --> 0.400766 0.40484359999999997\n",
        "49"
       ]
      },
      {
       "output_type": "stream",
       "stream": "stdout",
       "text": [
        " --> 0.40092 0.4038958\n",
        "50"
       ]
      },
      {
       "output_type": "stream",
       "stream": "stdout",
       "text": [
        " --> 0.401047 0.402446\n",
        "51"
       ]
      },
      {
       "output_type": "stream",
       "stream": "stdout",
       "text": [
        " --> 0.402691 0.40991239999999995\n",
        "52"
       ]
      },
      {
       "output_type": "stream",
       "stream": "stdout",
       "text": [
        " --> 0.400868 0.4041814\n",
        "53"
       ]
      },
      {
       "output_type": "stream",
       "stream": "stdout",
       "text": [
        " --> 0.400886 0.4025278\n",
        "54"
       ]
      },
      {
       "output_type": "stream",
       "stream": "stdout",
       "text": [
        " --> 0.401483 0.4077406\n",
        "55"
       ]
      },
      {
       "output_type": "stream",
       "stream": "stdout",
       "text": [
        " --> 0.40108 0.40269459999999996\n",
        "56"
       ]
      },
      {
       "output_type": "stream",
       "stream": "stdout",
       "text": [
        " --> 0.400888 0.4041608\n",
        "57"
       ]
      },
      {
       "output_type": "stream",
       "stream": "stdout",
       "text": [
        " --> 0.400833 0.4027393999999999\n",
        "58"
       ]
      },
      {
       "output_type": "stream",
       "stream": "stdout",
       "text": [
        " --> 0.401417 0.4072816\n",
        "59"
       ]
      },
      {
       "output_type": "stream",
       "stream": "stdout",
       "text": [
        " --> 0.401299 0.4115508\n",
        "60"
       ]
      },
      {
       "output_type": "stream",
       "stream": "stdout",
       "text": [
        " --> 0.400981 0.40457579999999993\n",
        "61"
       ]
      },
      {
       "output_type": "stream",
       "stream": "stdout",
       "text": [
        " --> 0.401431 0.403798\n",
        "62"
       ]
      },
      {
       "output_type": "stream",
       "stream": "stdout",
       "text": [
        " --> 0.401164 0.405091\n",
        "63"
       ]
      },
      {
       "output_type": "stream",
       "stream": "stdout",
       "text": [
        " --> 0.401002 0.40219360000000004\n",
        "64"
       ]
      },
      {
       "output_type": "stream",
       "stream": "stdout",
       "text": [
        " --> 0.400867 0.402942\n",
        "65"
       ]
      },
      {
       "output_type": "stream",
       "stream": "stdout",
       "text": [
        " --> 0.401491 0.40347299999999997\n",
        "66"
       ]
      },
      {
       "output_type": "stream",
       "stream": "stdout",
       "text": [
        " --> 0.400803 0.40360019999999996\n",
        "67"
       ]
      },
      {
       "output_type": "stream",
       "stream": "stdout",
       "text": [
        " --> 0.40085 0.403076\n",
        "68"
       ]
      },
      {
       "output_type": "stream",
       "stream": "stdout",
       "text": [
        " --> 0.400844 0.40404300000000004\n",
        "69"
       ]
      },
      {
       "output_type": "stream",
       "stream": "stdout",
       "text": [
        " --> 0.400888 0.4025252\n",
        "70"
       ]
      },
      {
       "output_type": "stream",
       "stream": "stdout",
       "text": [
        " --> 0.401166 0.40288440000000003\n",
        "71"
       ]
      },
      {
       "output_type": "stream",
       "stream": "stdout",
       "text": [
        " --> 0.400808 0.40260099999999993\n",
        "72"
       ]
      },
      {
       "output_type": "stream",
       "stream": "stdout",
       "text": [
        " --> 0.401547 0.40286599999999995\n",
        "73"
       ]
      },
      {
       "output_type": "stream",
       "stream": "stdout",
       "text": [
        " --> 0.401522 0.40623879999999996\n",
        "74"
       ]
      },
      {
       "output_type": "stream",
       "stream": "stdout",
       "text": [
        " --> 0.398203 0.40154119999999993\n",
        "75"
       ]
      },
      {
       "output_type": "stream",
       "stream": "stdout",
       "text": [
        " --> 0.39987 0.4057744\n",
        "76"
       ]
      },
      {
       "output_type": "stream",
       "stream": "stdout",
       "text": [
        " --> 0.398752 0.40223060000000005\n",
        "77"
       ]
      },
      {
       "output_type": "stream",
       "stream": "stdout",
       "text": [
        " --> 0.399848 0.40252499999999997\n",
        "78"
       ]
      },
      {
       "output_type": "stream",
       "stream": "stdout",
       "text": [
        " --> 0.400823 0.4032618\n",
        "79"
       ]
      },
      {
       "output_type": "stream",
       "stream": "stdout",
       "text": [
        " --> 0.401265 0.402498\n",
        "80"
       ]
      },
      {
       "output_type": "stream",
       "stream": "stdout",
       "text": [
        " --> 0.381798 0.38468420000000003\n",
        "81"
       ]
      },
      {
       "output_type": "stream",
       "stream": "stdout",
       "text": [
        " --> 0.400996 0.4029071999999999\n",
        "82"
       ]
      },
      {
       "output_type": "stream",
       "stream": "stdout",
       "text": [
        " --> 0.401023 0.4029294\n",
        "83"
       ]
      },
      {
       "output_type": "stream",
       "stream": "stdout",
       "text": [
        " --> 0.401492 0.405699\n",
        "84"
       ]
      },
      {
       "output_type": "stream",
       "stream": "stdout",
       "text": [
        " --> 0.40105 0.4024896\n",
        "85"
       ]
      },
      {
       "output_type": "stream",
       "stream": "stdout",
       "text": [
        " --> 0.400794 0.40310479999999993\n",
        "86"
       ]
      },
      {
       "output_type": "stream",
       "stream": "stdout",
       "text": [
        " --> 0.400987 0.402773\n",
        "87"
       ]
      },
      {
       "output_type": "stream",
       "stream": "stdout",
       "text": [
        " --> 0.40078 0.4034206\n",
        "88"
       ]
      },
      {
       "output_type": "stream",
       "stream": "stdout",
       "text": [
        " --> 0.400899 0.4041644\n",
        "89"
       ]
      },
      {
       "output_type": "stream",
       "stream": "stdout",
       "text": [
        " --> 0.400842 0.40268499999999996\n",
        "90"
       ]
      },
      {
       "output_type": "stream",
       "stream": "stdout",
       "text": [
        " --> 0.40099 0.40276259999999997\n",
        "91"
       ]
      },
      {
       "output_type": "stream",
       "stream": "stdout",
       "text": [
        " --> 0.401065 0.4025324\n",
        "92"
       ]
      },
      {
       "output_type": "stream",
       "stream": "stdout",
       "text": [
        " --> 0.400463 0.4027518\n",
        "93"
       ]
      },
      {
       "output_type": "stream",
       "stream": "stdout",
       "text": [
        " --> 0.395825 0.39793239999999996\n",
        "94"
       ]
      },
      {
       "output_type": "stream",
       "stream": "stdout",
       "text": [
        " --> 0.4009 0.402487\n",
        "95"
       ]
      },
      {
       "output_type": "stream",
       "stream": "stdout",
       "text": [
        " --> 0.400677 0.40360559999999995\n",
        "96"
       ]
      },
      {
       "output_type": "stream",
       "stream": "stdout",
       "text": [
        " --> 0.400735 0.4023592\n",
        "97"
       ]
      },
      {
       "output_type": "stream",
       "stream": "stdout",
       "text": [
        " --> 0.400941 0.40299779999999996\n",
        "98"
       ]
      },
      {
       "output_type": "stream",
       "stream": "stdout",
       "text": [
        " --> 0.40065 0.402414\n",
        "99"
       ]
      },
      {
       "output_type": "stream",
       "stream": "stdout",
       "text": [
        " --> 0.400964 0.40271460000000003\n",
        "Time range: 0.381798 0.405736\n",
        "% variation:  6.269807594591893\n"
       ]
      },
      {
       "metadata": {},
       "output_type": "pyout",
       "prompt_number": 4,
       "text": [
        "[<matplotlib.lines.Line2D at 0x6a36c18>]"
       ]
      },
      {
       "metadata": {},
       "output_type": "display_data",
       "png": "[encoded data removed]",
       "text": [
        "<matplotlib.figure.Figure at 0x411be48>"
       ]
      }
     ],
     "prompt_number": 4
    },
    {
     "cell_type": "code",
     "collapsed": false,
     "input": [
      "x[0:5]"
     ],
     "language": "python",
     "metadata": {},
     "outputs": [
      {
       "metadata": {},
       "output_type": "pyout",
       "prompt_number": 5,
       "text": [
        "[(80, 0.381798),\n",
        " (16, 0.382553),\n",
        " (93, 0.395825),\n",
        " (29, 0.397037),\n",
        " (74, 0.398203)]"
       ]
      }
     ],
     "prompt_number": 5
    },
    {
     "cell_type": "code",
     "collapsed": false,
     "input": [
      "noplist = list( range(100) )\n",
      "import random\n",
      "random.shuffle(noplist)\n",
      "\n",
      "results = []\n",
      "\n",
      "for nops in noplist:\n",
      "    make_temp_asm_file(nops)\n",
      "    b,a = run_test()\n",
      "    print(nops,\"-->\",b,a)\n",
      "    results.append( (nops,b) )\n",
      "    \n",
      "# Make ordered list\n",
      "import operator\n",
      "results.sort(key=operator.itemgetter(1)) # Sort on 2nd item of each tuple in list\n",
      "\n",
      "# Manual CDF plot\n",
      "xvalues = []\n",
      "yvalues = []\n",
      "count = 0\n",
      "for (nops,ti) in results:\n",
      "    xvalues.append(ti)\n",
      "    count += 1\n",
      "    yvalues.append(count)\n",
      "\n",
      "plt.plot(xvalues, yvalues)"
     ],
     "language": "python",
     "metadata": {},
     "outputs": [
      {
       "output_type": "stream",
       "stream": "stdout",
       "text": [
        "51 --> 0.400836 0.40921260000000004\n",
        "29"
       ]
      },
      {
       "output_type": "stream",
       "stream": "stdout",
       "text": [
        " --> 0.395907 0.3980322\n",
        "99"
       ]
      },
      {
       "output_type": "stream",
       "stream": "stdout",
       "text": [
        " --> 0.401063 0.404117\n",
        "8"
       ]
      },
      {
       "output_type": "stream",
       "stream": "stdout",
       "text": [
        " --> 0.400635 0.4043236\n",
        "42"
       ]
      },
      {
       "output_type": "stream",
       "stream": "stdout",
       "text": [
        " --> 0.400831 0.4068954000000001\n",
        "40"
       ]
      },
      {
       "output_type": "stream",
       "stream": "stdout",
       "text": [
        " --> 0.400755 0.40390560000000003\n",
        "9"
       ]
      },
      {
       "output_type": "stream",
       "stream": "stdout",
       "text": [
        " --> 0.400332 0.40289839999999993\n",
        "10"
       ]
      },
      {
       "output_type": "stream",
       "stream": "stdout",
       "text": [
        " --> 0.401034 0.40448579999999995\n",
        "49"
       ]
      },
      {
       "output_type": "stream",
       "stream": "stdout",
       "text": [
        " --> 0.40133 0.406121\n",
        "59"
       ]
      },
      {
       "output_type": "stream",
       "stream": "stdout",
       "text": [
        " --> 0.401127 0.4031302\n",
        "96"
       ]
      },
      {
       "output_type": "stream",
       "stream": "stdout",
       "text": [
        " --> 0.400767 0.40244719999999995\n",
        "90"
       ]
      },
      {
       "output_type": "stream",
       "stream": "stdout",
       "text": [
        " --> 0.401206 0.4034224\n",
        "27"
       ]
      },
      {
       "output_type": "stream",
       "stream": "stdout",
       "text": [
        " --> 0.400902 0.4036054\n",
        "7"
       ]
      },
      {
       "output_type": "stream",
       "stream": "stdout",
       "text": [
        " --> 0.400755 0.4028592\n",
        "32"
       ]
      },
      {
       "output_type": "stream",
       "stream": "stdout",
       "text": [
        " --> 0.401115 0.40289260000000005\n",
        "75"
       ]
      },
      {
       "output_type": "stream",
       "stream": "stdout",
       "text": [
        " --> 0.396961 0.40241299999999997\n",
        "26"
       ]
      },
      {
       "output_type": "stream",
       "stream": "stdout",
       "text": [
        " --> 0.400927 0.4030862\n",
        "22"
       ]
      },
      {
       "output_type": "stream",
       "stream": "stdout",
       "text": [
        " --> 0.401079 0.4025618000000001\n",
        "55"
       ]
      },
      {
       "output_type": "stream",
       "stream": "stdout",
       "text": [
        " --> 0.400863 0.4033746000000001\n",
        "65"
       ]
      },
      {
       "output_type": "stream",
       "stream": "stdout",
       "text": [
        " --> 0.400919 0.40235339999999997\n",
        "89"
       ]
      },
      {
       "output_type": "stream",
       "stream": "stdout",
       "text": [
        " --> 0.401451 0.40758779999999994\n",
        "15"
       ]
      },
      {
       "output_type": "stream",
       "stream": "stdout",
       "text": [
        " --> 0.400876 0.40285099999999996\n",
        "1"
       ]
      },
      {
       "output_type": "stream",
       "stream": "stdout",
       "text": [
        " --> 0.400868 0.402373\n",
        "13"
       ]
      },
      {
       "output_type": "stream",
       "stream": "stdout",
       "text": [
        " --> 0.400926 0.40368940000000003\n",
        "54"
       ]
      },
      {
       "output_type": "stream",
       "stream": "stdout",
       "text": [
        " --> 0.401449 0.4046882\n",
        "84"
       ]
      },
      {
       "output_type": "stream",
       "stream": "stdout",
       "text": [
        " --> 0.400804 0.40301939999999997\n",
        "64"
       ]
      },
      {
       "output_type": "stream",
       "stream": "stdout",
       "text": [
        " --> 0.401005 0.40263479999999996\n",
        "73"
       ]
      },
      {
       "output_type": "stream",
       "stream": "stdout",
       "text": [
        " --> 0.400645 0.4040514\n",
        "85"
       ]
      },
      {
       "output_type": "stream",
       "stream": "stdout",
       "text": [
        " --> 0.40119 0.40294680000000005\n",
        "74"
       ]
      },
      {
       "output_type": "stream",
       "stream": "stdout",
       "text": [
        " --> 0.401476 0.4050648\n",
        "12"
       ]
      },
      {
       "output_type": "stream",
       "stream": "stdout",
       "text": [
        " --> 0.400749 0.402411\n",
        "18"
       ]
      },
      {
       "output_type": "stream",
       "stream": "stdout",
       "text": [
        " --> 0.400695 0.4048548\n",
        "37"
       ]
      },
      {
       "output_type": "stream",
       "stream": "stdout",
       "text": [
        " --> 0.401033 0.40410179999999996\n",
        "88"
       ]
      },
      {
       "output_type": "stream",
       "stream": "stdout",
       "text": [
        " --> 0.40087 0.4031219999999999\n",
        "44"
       ]
      },
      {
       "output_type": "stream",
       "stream": "stdout",
       "text": [
        " --> 0.4011 0.4027858\n",
        "46"
       ]
      },
      {
       "output_type": "stream",
       "stream": "stdout",
       "text": [
        " --> 0.401111 0.4027692\n",
        "68"
       ]
      },
      {
       "output_type": "stream",
       "stream": "stdout",
       "text": [
        " --> 0.401325 0.4057128\n",
        "17"
       ]
      },
      {
       "output_type": "stream",
       "stream": "stdout",
       "text": [
        " --> 0.400925 0.4038916\n",
        "38"
       ]
      },
      {
       "output_type": "stream",
       "stream": "stdout",
       "text": [
        " --> 0.40062 0.402555\n",
        "52"
       ]
      },
      {
       "output_type": "stream",
       "stream": "stdout",
       "text": [
        " --> 0.401136 0.403275\n",
        "39"
       ]
      },
      {
       "output_type": "stream",
       "stream": "stdout",
       "text": [
        " --> 0.401301 0.4026192\n",
        "28"
       ]
      },
      {
       "output_type": "stream",
       "stream": "stdout",
       "text": [
        " --> 0.40095 0.40360960000000007\n",
        "43"
       ]
      },
      {
       "output_type": "stream",
       "stream": "stdout",
       "text": [
        " --> 0.400955 0.40461559999999996\n",
        "30"
       ]
      },
      {
       "output_type": "stream",
       "stream": "stdout",
       "text": [
        " --> 0.400475 0.40395720000000007\n",
        "86"
       ]
      },
      {
       "output_type": "stream",
       "stream": "stdout",
       "text": [
        " --> 0.400836 0.40242940000000005\n",
        "93"
       ]
      },
      {
       "output_type": "stream",
       "stream": "stdout",
       "text": [
        " --> 0.396362 0.400432\n",
        "23"
       ]
      },
      {
       "output_type": "stream",
       "stream": "stdout",
       "text": [
        " --> 0.400732 0.4027804\n",
        "50"
       ]
      },
      {
       "output_type": "stream",
       "stream": "stdout",
       "text": [
        " --> 0.400979 0.40311319999999995\n",
        "47"
       ]
      },
      {
       "output_type": "stream",
       "stream": "stdout",
       "text": [
        " --> 0.400639 0.4040508\n",
        "97"
       ]
      },
      {
       "output_type": "stream",
       "stream": "stdout",
       "text": [
        " --> 0.400887 0.4027286\n",
        "35"
       ]
      },
      {
       "output_type": "stream",
       "stream": "stdout",
       "text": [
        " --> 0.401315 0.4028456\n",
        "92"
       ]
      },
      {
       "output_type": "stream",
       "stream": "stdout",
       "text": [
        " --> 0.401468 0.4064898\n",
        "98"
       ]
      },
      {
       "output_type": "stream",
       "stream": "stdout",
       "text": [
        " --> 0.400936 0.40461400000000003\n",
        "45"
       ]
      },
      {
       "output_type": "stream",
       "stream": "stdout",
       "text": [
        " --> 0.400844 0.403741\n",
        "19"
       ]
      },
      {
       "output_type": "stream",
       "stream": "stdout",
       "text": [
        " --> 0.401301 0.40515939999999995\n",
        "72"
       ]
      },
      {
       "output_type": "stream",
       "stream": "stdout",
       "text": [
        " --> 0.400812 0.40408799999999995\n",
        "25"
       ]
      },
      {
       "output_type": "stream",
       "stream": "stdout",
       "text": [
        " --> 0.401316 0.40866040000000003\n",
        "76"
       ]
      },
      {
       "output_type": "stream",
       "stream": "stdout",
       "text": [
        " --> 0.40031 0.40455040000000003\n",
        "14"
       ]
      },
      {
       "output_type": "stream",
       "stream": "stdout",
       "text": [
        " --> 0.400473 0.4036586\n",
        "77"
       ]
      },
      {
       "output_type": "stream",
       "stream": "stdout",
       "text": [
        " --> 0.399158 0.4016793999999999\n",
        "24"
       ]
      },
      {
       "output_type": "stream",
       "stream": "stdout",
       "text": [
        " --> 0.400462 0.40282339999999994\n",
        "87"
       ]
      },
      {
       "output_type": "stream",
       "stream": "stdout",
       "text": [
        " --> 0.401095 0.4051902\n",
        "58"
       ]
      },
      {
       "output_type": "stream",
       "stream": "stdout",
       "text": [
        " --> 0.401386 0.4060542\n",
        "0"
       ]
      },
      {
       "output_type": "stream",
       "stream": "stdout",
       "text": [
        " --> 0.400844 0.40408659999999996\n",
        "62"
       ]
      },
      {
       "output_type": "stream",
       "stream": "stdout",
       "text": [
        " --> 0.401047 0.4031956\n",
        "4"
       ]
      },
      {
       "output_type": "stream",
       "stream": "stdout",
       "text": [
        " --> 0.400948 0.40323659999999995\n",
        "21"
       ]
      },
      {
       "output_type": "stream",
       "stream": "stdout",
       "text": [
        " --> 0.400849 0.4027214\n",
        "56"
       ]
      },
      {
       "output_type": "stream",
       "stream": "stdout",
       "text": [
        " --> 0.400579 0.4039642\n",
        "3"
       ]
      },
      {
       "output_type": "stream",
       "stream": "stdout",
       "text": [
        " --> 0.400853 0.4027348\n",
        "71"
       ]
      },
      {
       "output_type": "stream",
       "stream": "stdout",
       "text": [
        " --> 0.400713 0.4028772\n",
        "16"
       ]
      },
      {
       "output_type": "stream",
       "stream": "stdout",
       "text": [
        " --> 0.381592 0.384612\n",
        "94"
       ]
      },
      {
       "output_type": "stream",
       "stream": "stdout",
       "text": [
        " --> 0.400851 0.40203239999999996\n",
        "5"
       ]
      },
      {
       "output_type": "stream",
       "stream": "stdout",
       "text": [
        " --> 0.401038 0.40486839999999996\n",
        "67"
       ]
      },
      {
       "output_type": "stream",
       "stream": "stdout",
       "text": [
        " --> 0.401029 0.4027312\n",
        "2"
       ]
      },
      {
       "output_type": "stream",
       "stream": "stdout",
       "text": [
        " --> 0.40069 0.40275540000000004\n",
        "81"
       ]
      },
      {
       "output_type": "stream",
       "stream": "stdout",
       "text": [
        " --> 0.40113 0.4044808\n",
        "34"
       ]
      },
      {
       "output_type": "stream",
       "stream": "stdout",
       "text": [
        " --> 0.400855 0.4025798\n",
        "66"
       ]
      },
      {
       "output_type": "stream",
       "stream": "stdout",
       "text": [
        " --> 0.400895 0.40366740000000007\n",
        "6"
       ]
      },
      {
       "output_type": "stream",
       "stream": "stdout",
       "text": [
        " --> 0.401533 0.4053082\n",
        "61"
       ]
      },
      {
       "output_type": "stream",
       "stream": "stdout",
       "text": [
        " --> 0.400567 0.40463000000000005\n",
        "80"
       ]
      },
      {
       "output_type": "stream",
       "stream": "stdout",
       "text": [
        " --> 0.382066 0.385845\n",
        "41"
       ]
      },
      {
       "output_type": "stream",
       "stream": "stdout",
       "text": [
        " --> 0.40133 0.40495000000000003\n",
        "53"
       ]
      },
      {
       "output_type": "stream",
       "stream": "stdout",
       "text": [
        " --> 0.400799 0.40405860000000005\n",
        "82"
       ]
      },
      {
       "output_type": "stream",
       "stream": "stdout",
       "text": [
        " --> 0.401109 0.4022416\n",
        "57"
       ]
      },
      {
       "output_type": "stream",
       "stream": "stdout",
       "text": [
        " --> 0.401184 0.4033258\n",
        "95"
       ]
      },
      {
       "output_type": "stream",
       "stream": "stdout",
       "text": [
        " --> 0.401233 0.4027606\n",
        "69"
       ]
      },
      {
       "output_type": "stream",
       "stream": "stdout",
       "text": [
        " --> 0.400882 0.40298160000000005\n",
        "48"
       ]
      },
      {
       "output_type": "stream",
       "stream": "stdout",
       "text": [
        " --> 0.400718 0.40426320000000004\n",
        "31"
       ]
      },
      {
       "output_type": "stream",
       "stream": "stdout",
       "text": [
        " --> 0.400961 0.4021828\n",
        "63"
       ]
      },
      {
       "output_type": "stream",
       "stream": "stdout",
       "text": [
        " --> 0.40146 0.40367959999999997\n",
        "70"
       ]
      },
      {
       "output_type": "stream",
       "stream": "stdout",
       "text": [
        " --> 0.400757 0.40268740000000003\n",
        "36"
       ]
      },
      {
       "output_type": "stream",
       "stream": "stdout",
       "text": [
        " --> 0.401205 0.40298439999999996\n",
        "33"
       ]
      },
      {
       "output_type": "stream",
       "stream": "stdout",
       "text": [
        " --> 0.400852 0.4020944\n",
        "91"
       ]
      },
      {
       "output_type": "stream",
       "stream": "stdout",
       "text": [
        " --> 0.401092 0.40428620000000004\n",
        "78"
       ]
      },
      {
       "output_type": "stream",
       "stream": "stdout",
       "text": [
        " --> 0.400207 0.40287100000000003\n",
        "60"
       ]
      },
      {
       "output_type": "stream",
       "stream": "stdout",
       "text": [
        " --> 0.40081 0.4032038\n",
        "11"
       ]
      },
      {
       "output_type": "stream",
       "stream": "stdout",
       "text": [
        " --> 0.401109 0.4047754\n",
        "79"
       ]
      },
      {
       "output_type": "stream",
       "stream": "stdout",
       "text": [
        " --> 0.401265 0.4031974\n",
        "83"
       ]
      },
      {
       "output_type": "stream",
       "stream": "stdout",
       "text": [
        " --> 0.400899 0.4032444\n",
        "20"
       ]
      },
      {
       "output_type": "stream",
       "stream": "stdout",
       "text": [
        " --> 0.400889 0.40310680000000004\n"
       ]
      },
      {
       "metadata": {},
       "output_type": "pyout",
       "prompt_number": 6,
       "text": [
        "[<matplotlib.lines.Line2D at 0x6cd43c8>]"
       ]
      },
      {
       "metadata": {},
       "output_type": "display_data",
       "png": "[encoded data removed]",
       "text": [
        "<matplotlib.figure.Figure at 0x69df668>"
       ]
      }
     ],
     "prompt_number": 6
    },
    {
     "cell_type": "code",
     "collapsed": false,
     "input": [
      "results[0:5]"
     ],
     "language": "python",
     "metadata": {},
     "outputs": [
      {
       "metadata": {},
       "output_type": "pyout",
       "prompt_number": 7,
       "text": [
        "[(16, 0.381592),\n",
        " (80, 0.382066),\n",
        " (29, 0.395907),\n",
        " (93, 0.396362),\n",
        " (75, 0.396961)]"
       ]
      }
     ],
     "prompt_number": 7
    },
    {
     "cell_type": "code",
     "collapsed": false,
     "input": [],
     "language": "python",
     "metadata": {},
     "outputs": []
    }
   ],
   "metadata": {}
  }
 ]
}