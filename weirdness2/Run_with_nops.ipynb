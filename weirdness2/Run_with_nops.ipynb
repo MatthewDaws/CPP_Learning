{
 "metadata": {
  "name": "",
  "signature": "sha256:4ff56281f654db944cf233f06fda0f5dc3384723a41a730110f439eb909dc86f"
 },
 "nbformat": 3,
 "nbformat_minor": 0,
 "worksheets": [
  {
   "cells": [
    {
     "cell_type": "markdown",
     "metadata": {},
     "source": [
      "Uses demo.asm and adds extra `nop`s to move alignment of start of the loop.\n",
      "\n",
      "Assumes the loop we're interested starts on line 138.  You should also manually remove the `.p2align` command before this."
     ]
    },
    {
     "cell_type": "code",
     "collapsed": false,
     "input": [
      "magic_line = 138\n",
      "\n",
      "def make_temp_asm_file(nops):\n",
      "    with open(\"demo.asm\") as f:\n",
      "        with open(\"temp.asm\", mode='w') as outf:\n",
      "            for index, line in enumerate(f):\n",
      "                outf.write(line)\n",
      "                if index == magic_line - 2:\n",
      "                    break\n",
      "            for n in range(nops):\n",
      "                outf.write(\"\\tnop\\n\")\n",
      "            for line in f:\n",
      "                outf.write(line)"
     ],
     "language": "python",
     "metadata": {},
     "outputs": [],
     "prompt_number": 18
    },
    {
     "cell_type": "markdown",
     "metadata": {},
     "source": [
      "To run external programmes, the best way seems to be to use the subprocess module:  https://docs.python.org/3.4/library/subprocess.html\n",
      "\n",
      "I've chosen to direct the output of `temp.exe` to a file, whereas maybe I could use `Popen`: but I don't want python processing interfereing with the child process.  Maybe I should use `check_output` instead..."
     ]
    },
    {
     "cell_type": "code",
     "collapsed": false,
     "input": [
      "import subprocess\n",
      "import os\n",
      "\n",
      "def run_test():\n",
      "    \"\"\"run_test: assembles, links and runs temp.asm\n",
      "    returns best and average time\n",
      "    assumes temp.exe prints the time as the first thing on each line\"\"\"\n",
      "    with open(\"temp.txt\",\"w\") as output:\n",
      "        if subprocess.call(\"as temp.asm -o temp.o\",stdout=output) != 0:\n",
      "            throw(\"Failed to assmeble\")\n",
      "\n",
      "    with open(\"temp.txt\",\"w\") as output:\n",
      "        if subprocess.call(\"g++ temp.o -o temp.exe\",stdout=output) != 0:\n",
      "            throw(\"Failed to link\")\n",
      "\n",
      "    with open(\"temp.txt\",\"w\") as output:\n",
      "        if subprocess.call(\"temp\",stdout=output) != 0:\n",
      "            throw(\"Failed to run\")\n",
      "\n",
      "    average = 0.0\n",
      "    best = 0.0\n",
      "    with open(\"temp.txt\") as input:\n",
      "        count = 0\n",
      "        for index, line in enumerate(input):\n",
      "            data = line.split()\n",
      "            time = float(data[0])\n",
      "            average += time\n",
      "            if index == 0 or time < best : best = time\n",
      "            count += 1\n",
      "        average = average / count\n",
      "    \n",
      "    os.remove(\"temp.asm\")\n",
      "    os.remove(\"temp.o\")\n",
      "    os.remove(\"temp.exe\")\n",
      "    os.remove(\"temp.txt\")\n",
      "    \n",
      "    return (best,average)"
     ],
     "language": "python",
     "metadata": {},
     "outputs": [],
     "prompt_number": 44
    },
    {
     "cell_type": "code",
     "collapsed": false,
     "input": [
      "for nops in range(30):\n",
      "    make_temp_asm_file(nops)\n",
      "    b,a = run_test()\n",
      "    print(nops,\"-->\",b,a)"
     ],
     "language": "python",
     "metadata": {},
     "outputs": [
      {
       "output_type": "stream",
       "stream": "stdout",
       "text": [
        "0 --> 0.401835 0.40484200000000004\n",
        "1"
       ]
      },
      {
       "output_type": "stream",
       "stream": "stdout",
       "text": [
        " --> 0.405245 0.40852279999999996\n",
        "2"
       ]
      },
      {
       "output_type": "stream",
       "stream": "stdout",
       "text": [
        " --> 0.404161 0.4076893999999999\n",
        "3"
       ]
      },
      {
       "output_type": "stream",
       "stream": "stdout",
       "text": [
        " --> 0.405937 0.41095519999999996\n",
        "4"
       ]
      },
      {
       "output_type": "stream",
       "stream": "stdout",
       "text": [
        " --> 0.403581 0.40744300000000006\n",
        "5"
       ]
      },
      {
       "output_type": "stream",
       "stream": "stdout",
       "text": [
        " --> 0.402645 0.40687360000000006\n",
        "6"
       ]
      },
      {
       "output_type": "stream",
       "stream": "stdout",
       "text": [
        " --> 0.40289 0.406442\n",
        "7"
       ]
      },
      {
       "output_type": "stream",
       "stream": "stdout",
       "text": [
        " --> 0.404065 0.40987739999999995\n",
        "8"
       ]
      },
      {
       "output_type": "stream",
       "stream": "stdout",
       "text": [
        " --> 0.402862 0.41095239999999994\n",
        "9"
       ]
      },
      {
       "output_type": "stream",
       "stream": "stdout",
       "text": [
        " --> 0.401065 0.40910720000000006\n",
        "10"
       ]
      },
      {
       "output_type": "stream",
       "stream": "stdout",
       "text": [
        " --> 0.404244 0.4086982\n",
        "11"
       ]
      },
      {
       "output_type": "stream",
       "stream": "stdout",
       "text": [
        " --> 0.40235 0.408441\n",
        "12"
       ]
      },
      {
       "output_type": "stream",
       "stream": "stdout",
       "text": [
        " --> 0.404849 0.4092716\n",
        "13"
       ]
      },
      {
       "output_type": "stream",
       "stream": "stdout",
       "text": [
        " --> 0.40398 0.40845380000000003\n",
        "14"
       ]
      },
      {
       "output_type": "stream",
       "stream": "stdout",
       "text": [
        " --> 0.404985 0.4091048\n",
        "15"
       ]
      },
      {
       "output_type": "stream",
       "stream": "stdout",
       "text": [
        " --> 0.404111 0.406304\n",
        "16"
       ]
      },
      {
       "output_type": "stream",
       "stream": "stdout",
       "text": [
        " --> 0.401896 0.4077738\n",
        "17"
       ]
      },
      {
       "output_type": "stream",
       "stream": "stdout",
       "text": [
        " --> 0.402064 0.4068148\n",
        "18"
       ]
      },
      {
       "output_type": "stream",
       "stream": "stdout",
       "text": [
        " --> 0.40336 0.4074272\n",
        "19"
       ]
      },
      {
       "output_type": "stream",
       "stream": "stdout",
       "text": [
        " --> 0.403618 0.4127286\n",
        "20"
       ]
      },
      {
       "output_type": "stream",
       "stream": "stdout",
       "text": [
        " --> 0.400946 0.408193\n",
        "21"
       ]
      },
      {
       "output_type": "stream",
       "stream": "stdout",
       "text": [
        " --> 0.401541 0.4081256\n",
        "22"
       ]
      },
      {
       "output_type": "stream",
       "stream": "stdout",
       "text": [
        " --> 0.401554 0.40678099999999995\n",
        "23"
       ]
      },
      {
       "output_type": "stream",
       "stream": "stdout",
       "text": [
        " --> 0.402454 0.40576080000000003\n",
        "24"
       ]
      },
      {
       "output_type": "stream",
       "stream": "stdout",
       "text": [
        " --> 0.403734 0.4087408\n",
        "25"
       ]
      },
      {
       "output_type": "stream",
       "stream": "stdout",
       "text": [
        " --> 0.401316 0.40533539999999996\n",
        "26"
       ]
      },
      {
       "output_type": "stream",
       "stream": "stdout",
       "text": [
        " --> 0.401974 0.408474\n",
        "27"
       ]
      },
      {
       "output_type": "stream",
       "stream": "stdout",
       "text": [
        " --> 0.403119 0.4091086\n",
        "28"
       ]
      },
      {
       "output_type": "stream",
       "stream": "stdout",
       "text": [
        " --> 0.40206 0.407062\n",
        "29"
       ]
      },
      {
       "output_type": "stream",
       "stream": "stdout",
       "text": [
        " --> 0.402475 0.40514320000000004\n"
       ]
      }
     ],
     "prompt_number": 45
    },
    {
     "cell_type": "code",
     "collapsed": false,
     "input": [],
     "language": "python",
     "metadata": {},
     "outputs": []
    }
   ],
   "metadata": {}
  }
 ]
}