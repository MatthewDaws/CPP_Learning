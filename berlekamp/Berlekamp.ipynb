{
 "metadata": {
  "name": "",
  "signature": "sha256:f28f14d3840ebfa4c24bdae08e59929ebc236c2d44599797ed4421312e04b902"
 },
 "nbformat": 3,
 "nbformat_minor": 0,
 "worksheets": [
  {
   "cells": [
    {
     "cell_type": "markdown",
     "metadata": {},
     "source": [
      "Finally hit upon the idea of viewing the problem in terms of polynomials in $\\mathbb F_2[X]$: we have $f(X)g(X) = h(X)$ where we only know $h$ and we want to find all $f,g$.\n",
      "\n",
      "Ah, so this is polynomial factorisation!  A little googling, and we find: http://en.wikipedia.org/wiki/Berlekamp%27s_algorithm\n",
      "\n",
      "You can find explanations which are (much) more complete than Wikipedia, but the best source seems to be Knuth, vol 2. which I'll follow here.\n",
      "\n",
      "All this works over any finite field, but rather than re-invent the wheel (see e.g. http://jeremykun.com/2014/03/13/programming-with-finite-fields/ )   So we'll work over $\\mathbb F_2$."
     ]
    },
    {
     "cell_type": "heading",
     "level": 1,
     "metadata": {},
     "source": [
      "Polynomial class"
     ]
    },
    {
     "cell_type": "code",
     "collapsed": false,
     "input": [
      "class PolyF2:\n",
      "    def __init__(self, co = [0]):\n",
      "        self.coeffs = [x&1 for x in co]\n",
      "        \n",
      "    def clone(self):\n",
      "        p = PolyF2()\n",
      "        p.coeffs = self.coeffs[:]\n",
      "        return p\n",
      "    \n",
      "    def degree(self):\n",
      "        while len(self.coeffs) > 1 and self.coeffs[-1] == 0:\n",
      "            self.coeffs.pop()\n",
      "        return len(self.coeffs) - 1\n",
      "        \n",
      "    def __str__(self):\n",
      "        n = self.degree()\n",
      "        s = []\n",
      "        while n > 0:\n",
      "            if self.coeffs[n] == 1:\n",
      "                s.append( \"X^\"+str(n) )\n",
      "            n -= 1\n",
      "        if self.coeffs[0] == 1 or len(s)==0:\n",
      "            s.append( str(self.coeffs[0]) )\n",
      "        return \" + \".join(s)\n",
      "    \n",
      "    def __repr__(self):\n",
      "        return \"PolyF2: \" + str(self)\n",
      "        \n",
      "    def __eq__(self, other):\n",
      "        if self.degree() == other.degree() and self.coeffs == other.coeffs:\n",
      "            return True\n",
      "        return False\n",
      "    \n",
      "    def __ne__(self, other):\n",
      "        return not ( self == other )\n",
      "    \n",
      "    def __hash__(self):\n",
      "        self.degree()\n",
      "        return hash(tuple(self.coeffs))\n",
      "        \n",
      "    def __add__(self, other):\n",
      "        p = self.clone()\n",
      "        deg_dif = other.degree() - p.degree()\n",
      "        if deg_dif > 0:\n",
      "            p.coeffs.extend( [0]*deg_dif )\n",
      "        for i, c in enumerate(other.coeffs):\n",
      "            p.coeffs[i] ^= c\n",
      "        return p\n",
      "    \n",
      "    def __sub__(self, other):\n",
      "        return self + other # F_2 !!\n",
      "    \n",
      "    def __mul__(self, other):\n",
      "        newcoeffs = [0] * (self.degree() + other.degree() + 1)\n",
      "        for j, c in enumerate(self.coeffs):\n",
      "            for k, d in enumerate(other.coeffs):\n",
      "                newcoeffs[j + k] ^= ( c * d ) & 1\n",
      "        return PolyF2(newcoeffs)\n",
      "    \n",
      "    def __divmod__(self, other):\n",
      "        sd = self.degree()\n",
      "        od = other.degree()\n",
      "        if od == 0 and other.coeffs[0] == 0:\n",
      "            raise ZeroDivisionError(\"division by zero.\")\n",
      "        if sd < od:\n",
      "            return ( PolyF2(), self.clone() )\n",
      "        quot = PolyF2([0] * (sd - od + 1))\n",
      "        rem = self.clone()\n",
      "        for k in range(sd - od, -1, -1):\n",
      "            quot.coeffs[k] = rem.coeffs[k + od]\n",
      "            for j in range(k + od - 1, k - 1, -1):\n",
      "                rem.coeffs[j] ^= ( quot.coeffs[k] * other.coeffs[j-k] ) & 1\n",
      "        rem.coeffs = rem.coeffs[:od]\n",
      "        if od == 0:\n",
      "            rem.coeffs = [0]\n",
      "        return (quot, rem)\n",
      "    \n",
      "    def __floordiv__(self, other):\n",
      "        quot, _ = divmod(self, other)\n",
      "        return quot\n",
      "    \n",
      "    def __mod__(self, other):\n",
      "        _, rem = divmod(self, other)\n",
      "        return rem\n",
      "    \n",
      "    def derivative(self):\n",
      "        p = self.clone()\n",
      "        for k in range(self.degree()):\n",
      "            p.coeffs[k] = ( (k+1) * self.coeffs[k+1] ) & 1\n",
      "        p.coeffs[-1] = 0\n",
      "        p.degree()\n",
      "        return p\n",
      "    \n",
      "    def gcd(a, b):\n",
      "        # if a = q * b + r then gcd(a,b) = gcd(b, r)\n",
      "        aa, bb = a, b\n",
      "        while not ( bb.degree() == 0 and bb.coeffs[0] == 0 ):\n",
      "            aa, bb = bb, aa % bb\n",
      "        return aa\n",
      "    \n",
      "    def extract_even_terms(self):\n",
      "        \"\"\"If self == u_0 + u_1X + u_2X^2 + ... then returns u_0 + u_2X + u_4 X^2 + ...\"\"\"\n",
      "        return PolyF2(self.coeffs[::2])\n",
      "    \n",
      "    def get_coeffs(self, number):\n",
      "        \"\"\"Returns first `number` coefficients, and zero pads if necessary\"\"\"\n",
      "        co = self.coeffs[:number]\n",
      "        if len(co) < number:\n",
      "            co += [0] * (number - len(co))\n",
      "        return co"
     ],
     "language": "python",
     "metadata": {},
     "outputs": [],
     "prompt_number": 1
    },
    {
     "cell_type": "code",
     "collapsed": false,
     "input": [
      "p = PolyF2()\n",
      "print(\"Zero poly:\", p)\n",
      "p = PolyF2([1,0,1,1])\n",
      "p.coeffs\n",
      "print(\"p=\", p, \" and deg=\",p.degree())\n",
      "q = PolyF2([1,1])\n",
      "print(\"q=\", q, \" and deg=\",q.degree())\n",
      "print(\"Difference:\", p-q)\n",
      "print(\"Product:\", p * q)\n",
      "print(\"Quot, Rem:\", divmod(p,q))\n",
      "print(\"Formal derivative of p:\", p.derivative())\n",
      "print(\"GCD(p,q)=\", PolyF2.gcd(p,q))"
     ],
     "language": "python",
     "metadata": {},
     "outputs": [
      {
       "output_type": "stream",
       "stream": "stdout",
       "text": [
        "Zero poly: 0\n",
        "p= X^3 + X^2 + 1  and deg= 3\n",
        "q= X^1 + 1  and deg= 1\n",
        "Difference: X^3 + X^2 + X^1\n",
        "Product: X^4 + X^2 + X^1 + 1\n",
        "Quot, Rem: (PolyF2: X^2, PolyF2: 1)\n",
        "Formal derivative of p: X^2\n",
        "GCD(p,q)= 1\n"
       ]
      }
     ],
     "prompt_number": 2
    },
    {
     "cell_type": "code",
     "collapsed": false,
     "input": [
      "PolyF2.gcd(p*PolyF2([1,0,1,1]),q*PolyF2([1,0,1,1]))"
     ],
     "language": "python",
     "metadata": {},
     "outputs": [
      {
       "metadata": {},
       "output_type": "pyout",
       "prompt_number": 3,
       "text": [
        "PolyF2: X^3 + X^2 + 1"
       ]
      }
     ],
     "prompt_number": 3
    },
    {
     "cell_type": "heading",
     "level": 1,
     "metadata": {},
     "source": [
      "Square-free preparation"
     ]
    },
    {
     "cell_type": "markdown",
     "metadata": {},
     "source": [
      "The input to Berlekamp's algorithm needs to be \"square-free\" (i.e. in the prime factorisation of the input polynomial no irreducible appears twice or more).\n",
      "\n",
      "To do this, we:\n",
      "\n",
      "   - Input is $u(x)$\n",
      "   - Compute $d = \\gcd(u,u')$ where $u'$ is the formal derivative.\n",
      "   - If $d=1$ then $u$ is square-free.\n",
      "   - Otherwise $d$ divides $u$ so factor $d$ and $u/d$ separately\n",
      "   - If $d=u$, that is, $u'=0$, then a little thought shows that $u = u_0 + u_2 X^2 + u_4 X^4 + \\cdots$ and so $u(X) = v(X^2) = (v(X))^2$ with $v(X) = u_0 + u_2X + u_4X^2 + \\cdots$ (use Fermat's Little Theorem).  So factor $v$ and count everything twice."
     ]
    },
    {
     "cell_type": "code",
     "collapsed": false,
     "input": [
      "# Calls Berlekamp which isn't defined yet\n",
      "\n",
      "def factor(p):\n",
      "    \"\"\"Returns the prime factors of p\"\"\"\n",
      "    if p == PolyF2([1]) or p == PolyF2():\n",
      "        return [p]\n",
      "    pderiv = p.derivative()\n",
      "    if pderiv == PolyF2():\n",
      "        factors = factor( p.extract_even_terms() )\n",
      "        return factors + factors\n",
      "    d = PolyF2.gcd(p, p.derivative())\n",
      "    if d == PolyF2([1]):\n",
      "        return berlekamp(p)\n",
      "    return factor(d) + factor(p // d)"
     ],
     "language": "python",
     "metadata": {},
     "outputs": [],
     "prompt_number": 4
    },
    {
     "cell_type": "heading",
     "level": 1,
     "metadata": {},
     "source": [
      "Berlekamp's Algorithm"
     ]
    },
    {
     "cell_type": "markdown",
     "metadata": {},
     "source": [
      "Input: $u(x)$ which is square-free\n",
      "\n",
      "   - Set $u(x) = u_n X^n + \\cdots + u_0$\n",
      "   - We find  $ X^{2k} \\equiv q_{k, n-1} X^{n-1} + \\cdots + q_{k,0} \\mod u$\n",
      "   - Then set $$ Q = \\begin{pmatrix} q_{0,0} & q_{0,1} & \\cdots & q_{0,n-1} \\\\\n",
      "   \\vdots & \\vdots & & \\vdots \\\\\n",
      "   q_{n-1,0} & q_{n-1,1} & \\cdots & q_{n-1,n-1} \\end{pmatrix} $$\n",
      "   - In particular, the first row of $Q$ is $(1,0,\\cdots)$\n",
      "   - Knuth gives an algorithm to find $Q$ but as $p=2$ for us, we can use:\n",
      "      - Assume $X^{2k} = qu + r$\n",
      "      - Then $X^{2(k+1)} = X^2qu + X^2r$\n",
      "      - So $X^{2(k+1)} \\mod u = X^2r \\mod u$\n",
      "      \n",
      "Once we've found $Q$, we can to find $r$ linearly independent vectors $v^{[1]},\\cdots, v^{[r]}$ with $v^{[j]} (Q-I)=0$.  We take $v^{[1]} = (1,0,\\cdots)$.  \n",
      "\n",
      "   - The theory tells us that $u$ has $r$ prime factors.\n",
      "   - So if $r=1$ then end\n",
      "   - Otherwise compute $\\gcd(u, v^{[2]})$ and $\\gcd(u, v^{[2]} - 1)$ which will be (maybe trivial) factors of $u$.  If we don't have $r$ factors, then we compute $\\gcd(w, v^{[k]}-s)$ for $s=0,1$ and $k=3,4,\\cdots$ with $w$ being the factors we have so far found, until we have $r$ factors."
     ]
    },
    {
     "cell_type": "code",
     "collapsed": false,
     "input": [
      "class SquareMatrixF2:\n",
      "    def __init__(self, n):\n",
      "        self.size = n\n",
      "        self.matrix = [ [0]*n for _ in range(n) ]\n",
      "\n",
      "    def identity(n):\n",
      "        m = SquareMatrixF2(n)\n",
      "        for i in range(n):\n",
      "            m.set(i,i,1)\n",
      "        return m\n",
      "    \n",
      "    def __str__(self):\n",
      "        return \"\\n\".join( str(row) for row in self.matrix )\n",
      "    \n",
      "    def __repr__(self):\n",
      "        return \"SquareMatrixF2:\\n\"+str(self)\n",
      "    \n",
      "    def __add__(self, other):\n",
      "        if self.size != other.size:\n",
      "            raise Exception(\"SquareMatrixF2::add matrices need to be of same size!\")\n",
      "        m = SquareMatrixF2(self.size)\n",
      "        for row in range(m.size):\n",
      "            for col in range(m.size):\n",
      "                m.set(row, col, self.get(row,col) ^ other.get(row,col))\n",
      "        return m\n",
      "\n",
      "    def __sub__(self, other):\n",
      "        return self + other # F_2 !!\n",
      "        \n",
      "    def set(self, row, col, v):\n",
      "        self.matrix[row][col] = v & 1\n",
      "\n",
      "    def get(self, row, col):\n",
      "        return self.matrix[row][col]\n",
      "    \n",
      "    def get_size(self):\n",
      "        return self.size\n",
      "    \n",
      "    def transpose(self):\n",
      "        \"\"\"Returns the transpose of the matrix\"\"\"\n",
      "        m = SquareMatrixF2(self.size)\n",
      "        for row in range(self.size):\n",
      "            for col in range(self.size):\n",
      "                m.set(row, col, self.get(col,row) )\n",
      "        return m\n",
      "    \n",
      "    def swap_rows(self, row1, row2):\n",
      "        if row1 == row2:\n",
      "            return\n",
      "        self.matrix[row1], self.matrix[row2] = self.matrix[row2], self.matrix[row1]\n",
      "    \n",
      "    def add_rows(self, addto, addfrom):\n",
      "        for col in range(self.size):\n",
      "            v = self.get(addto, col)\n",
      "            v = ( v + self.get(addfrom, col) ) & 1\n",
      "            self.set(addto, col, v)"
     ],
     "language": "python",
     "metadata": {},
     "outputs": [],
     "prompt_number": 5
    },
    {
     "cell_type": "code",
     "collapsed": false,
     "input": [
      "def berlekamp(u):\n",
      "    #print(\"berlekamp:\", u)\n",
      "    if u.degree() <= 1:\n",
      "        return [u]\n",
      "    Q = berlekamp_Q_Matrix(u)\n",
      "    nullspace = berlekamp_null(Q)\n",
      "    # Covert to polynomials\n",
      "    nullspace = [PolyF2(v) for v in nullspace]\n",
      "    #print(\"Nullspace:\")\n",
      "    #for v in nullspace:\n",
      "    #    print(v)\n",
      "    r = len(nullspace)\n",
      "    factors = [u]\n",
      "    k = 1\n",
      "    while len(factors) < r:\n",
      "        newfactors = []\n",
      "        for s in range(2):\n",
      "            for w in factors:\n",
      "                ww = PolyF2.gcd(w, nullspace[k] - PolyF2([s]))\n",
      "                if ww != PolyF2([1]):\n",
      "                    newfactors.append(ww)\n",
      "        factors = newfactors\n",
      "        k += 1\n",
      "    return factors\n",
      "\n",
      "def berlekamp_Q_Matrix(u):\n",
      "    n = u.degree()\n",
      "    p = PolyF2([1])\n",
      "    Q = SquareMatrixF2(n)\n",
      "    for col, v in enumerate(p.get_coeffs(n)):\n",
      "        Q.set(0, col, v)\n",
      "    for k in range(1, n):\n",
      "        p = (p * PolyF2([0,0,1])) % u\n",
      "        for col, v in enumerate(p.get_coeffs(n)):\n",
      "            Q.set(k, col, v)\n",
      "    return Q\n",
      "\n",
      "def berlekamp_null(Q):\n",
      "    \"\"\"Q = list of rows of a square-matrix\n",
      "    Output: r vectors in the null space of (Q-I)^T\"\"\"\n",
      "    # Want to perform row operations (over F_2, these are swap or add) to get\n",
      "    # (Q - I)^T to be upper triangular.  Gaussian elimination will end when the\n",
      "    # bottom n-r rows are all zero\n",
      "    n = Q.get_size()\n",
      "    A = ( Q - SquareMatrixF2.identity(n) ).transpose()\n",
      "    #print(A)\n",
      "    # Eliminate\n",
      "    colindex = 0\n",
      "    identity_index = 0\n",
      "    copy_id = []\n",
      "    for colindex in range(n):\n",
      "        rowindex = identity_index\n",
      "        while rowindex < n and A.get(rowindex, colindex) == 0:\n",
      "            rowindex += 1\n",
      "        if rowindex == n:\n",
      "            continue # Try next column\n",
      "        A.swap_rows(rowindex, identity_index)\n",
      "        for row in range(n):\n",
      "            if row != identity_index and A.get(row, colindex) == 1:\n",
      "                A.add_rows(row, identity_index)\n",
      "        # Next loop\n",
      "        copy_id.append(colindex)\n",
      "        identity_index += 1\n",
      "    #print(A)\n",
      "    # Now solve Au=0.\n",
      "    # We'll end up with some zero columns, a copy of the r identity matrix,\n",
      "    # the bottom being n-r zero rows, and then some final columns which are\n",
      "    # unknown.\n",
      "    #print(\"Identity in columns:\", copy_id)\n",
      "    non_id = list(range(n))\n",
      "    for i in copy_id:\n",
      "        non_id.remove(i)\n",
      "    r = len(copy_id)\n",
      "    # So A[i][j] = 0 for i > r, all j\n",
      "    # A[i][copy_id[i]] = 1 for i < r\n",
      "    # A[j][copy_id[i]] = 0 for i < r, j!=i\n",
      "    # Solve (Au)[i] = 0 for all i, that is, \\sum_j A[i][j] * u[j] = 0 for i < r\n",
      "    # Reduces to u[copy_id[i]] + \\sum_k A[i][non_id[k]] * u[non_id[k]] = 0 for i < r\n",
      "    basis = []\n",
      "    for k in non_id:\n",
      "        u = [0] * n\n",
      "        u[k] = 1\n",
      "        # Need u[copy_id[i]] + A[i][k] = 0 for i < r\n",
      "        for i in range(r):\n",
      "            u[copy_id[i]] = A.get(i,k)\n",
      "        basis.append(u)\n",
      "    return basis"
     ],
     "language": "python",
     "metadata": {},
     "outputs": [],
     "prompt_number": 6
    },
    {
     "cell_type": "code",
     "collapsed": false,
     "input": [
      "Q = berlekamp_Q_Matrix( PolyF2([0,1,0,1]) )\n",
      "Q"
     ],
     "language": "python",
     "metadata": {},
     "outputs": [
      {
       "metadata": {},
       "output_type": "pyout",
       "prompt_number": 7,
       "text": [
        "SquareMatrixF2:\n",
        "[1, 0, 0]\n",
        "[0, 0, 1]\n",
        "[0, 0, 1]"
       ]
      }
     ],
     "prompt_number": 7
    },
    {
     "cell_type": "code",
     "collapsed": false,
     "input": [
      "Q = SquareMatrixF2(3)\n",
      "Q.matrix[0] = [1,0,0]\n",
      "Q.matrix[1] = [0,1,0]\n",
      "print(Q)\n",
      "berlekamp_null(Q)"
     ],
     "language": "python",
     "metadata": {},
     "outputs": [
      {
       "output_type": "stream",
       "stream": "stdout",
       "text": [
        "[1, 0, 0]\n",
        "[0, 1, 0]\n",
        "[0, 0, 0]\n"
       ]
      },
      {
       "metadata": {},
       "output_type": "pyout",
       "prompt_number": 8,
       "text": [
        "[[1, 0, 0], [0, 1, 0]]"
       ]
      }
     ],
     "prompt_number": 8
    },
    {
     "cell_type": "code",
     "collapsed": false,
     "input": [
      "x = [1,2,3,4]\n",
      "x[0], x[2] = x[2], x[0]\n",
      "x"
     ],
     "language": "python",
     "metadata": {},
     "outputs": [
      {
       "metadata": {},
       "output_type": "pyout",
       "prompt_number": 9,
       "text": [
        "[3, 2, 1, 4]"
       ]
      }
     ],
     "prompt_number": 9
    },
    {
     "cell_type": "heading",
     "level": 1,
     "metadata": {},
     "source": [
      "Check!"
     ]
    },
    {
     "cell_type": "code",
     "collapsed": false,
     "input": [
      "def check_Q_null(Q, nulls):\n",
      "    # Should be vQ = v for all v in nulls\n",
      "    for v in nulls:\n",
      "        u = v[:]\n",
      "        for i in range(Q.get_size()):\n",
      "            u[i] = sum( v[j] * Q.get(j,i) for j in range(Q.get_size()) ) & 1\n",
      "        if u != v:\n",
      "            print(\"check_Q_null:\",v,\"is a problem\")\n",
      "            return False\n",
      "    return True\n",
      "\n",
      "def is_prime(p):\n",
      "    for deg in range(1, p.degree()):\n",
      "        for n in range(2,2**(deg+1)):\n",
      "            coeffs = [ (n>>k)&1 for k in range(deg+1) ]\n",
      "            q = PolyF2(coeffs)\n",
      "            if p % q == PolyF2():\n",
      "                print(p,\"==\",q,\"*\", p//q)\n",
      "                return False\n",
      "    return True"
     ],
     "language": "python",
     "metadata": {},
     "outputs": [],
     "prompt_number": 10
    },
    {
     "cell_type": "code",
     "collapsed": false,
     "input": [
      "f = factor( PolyF2([1,0,1,1]) * PolyF2([1,0,0,1,0,1]) )\n",
      "for p in f:\n",
      "    if not is_prime(p):\n",
      "        raise Exception(\"Bugger\")\n",
      "print(f)"
     ],
     "language": "python",
     "metadata": {},
     "outputs": [
      {
       "output_type": "stream",
       "stream": "stdout",
       "text": [
        "[PolyF2: X^3 + X^2 + 1, PolyF2: X^5 + X^3 + 1]\n"
       ]
      }
     ],
     "prompt_number": 11
    },
    {
     "cell_type": "code",
     "collapsed": false,
     "input": [
      "import random\n",
      "\n",
      "for _ in range(10000):\n",
      "    p1 = PolyF2( [random.randint(0,1) for _ in range(random.randint(1,10))] )\n",
      "    p2 = PolyF2( [random.randint(0,1) for _ in range(random.randint(1,10))] )\n",
      "    p = p1*p2\n",
      "    f = factor(p)\n",
      "    for p in f:\n",
      "        if not is_prime(p):\n",
      "            raise Exception(\"Not prime: \"+str(p))\n",
      "    q = PolyF2( [1] )\n",
      "    for p in f:\n",
      "        q *= p\n",
      "    if q != p1*p2:\n",
      "        raise Exception(\"Factors don't multiply to original!\")\n",
      "    #print(f)"
     ],
     "language": "python",
     "metadata": {},
     "outputs": [],
     "prompt_number": 13
    },
    {
     "cell_type": "heading",
     "level": 1,
     "metadata": {},
     "source": [
      "Benchmarking"
     ]
    },
    {
     "cell_type": "code",
     "collapsed": false,
     "input": [
      "print([random.randint(0,1) for _ in range(100)])"
     ],
     "language": "python",
     "metadata": {},
     "outputs": [
      {
       "output_type": "stream",
       "stream": "stdout",
       "text": [
        "[0, 0, 1, 1, 0, 0, 1, 1, 0, 1, 1, 0, 1, 1, 1, 0, 0, 1, 1, 1, 1, 1, 1, 0, 1, 0, 0, 0, 0, 1, 1, 0, 0, 0, 1, 0, 0, 0, 1, 1, 0, 1, 1, 1, 1, 0, 0, 1, 1, 0, 1, 0, 0, 0, 0, 0, 0, 1, 0, 0, 1, 0, 0, 1, 1, 1, 1, 0, 1, 0, 0, 0, 1, 1, 0, 0, 0, 1, 0, 1, 1, 1, 1, 1, 1, 0, 1, 0, 0, 1, 1, 1, 1, 1, 0, 0, 0, 0, 1, 0]\n"
       ]
      }
     ],
     "prompt_number": 16
    },
    {
     "cell_type": "code",
     "collapsed": false,
     "input": [
      "p = PolyF2([0, 0, 1, 1, 0, 0, 1, 1, 0, 1, 1, 0, 1, 1, 1, 0, 0, 1, 1, 1, 1, 1, 1, 0, 1, 0, 0, 0, 0, 1, 1, 0, 0, 0, 1, 0, 0,\n",
      "            0, 1, 1, 0, 1, 1, 1, 1, 0, 0, 1, 1, 0, 1, 0, 0, 0, 0, 0, 0, 1, 0, 0, 1, 0, 0, 1, 1, 1, 1, 0, 1, 0, 0, 0, 1, 1, 0,\n",
      "            0, 0, 1, 0, 1, 1, 1, 1, 1, 1, 0, 1, 0, 0, 1, 1, 1, 1, 1, 0, 0, 0, 0, 1, 0])"
     ],
     "language": "python",
     "metadata": {},
     "outputs": [],
     "prompt_number": 17
    },
    {
     "cell_type": "code",
     "collapsed": false,
     "input": [
      "%timeit(factor(p))"
     ],
     "language": "python",
     "metadata": {},
     "outputs": [
      {
       "output_type": "stream",
       "stream": "stdout",
       "text": [
        "1 loops, best of 3: 307 ms per loop\n"
       ]
      }
     ],
     "prompt_number": 21
    },
    {
     "cell_type": "code",
     "collapsed": false,
     "input": [
      "factor(p)"
     ],
     "language": "python",
     "metadata": {},
     "outputs": [
      {
       "metadata": {},
       "output_type": "pyout",
       "prompt_number": 20,
       "text": [
        "[PolyF2: X^1,\n",
        " PolyF2: X^1,\n",
        " PolyF2: X^13 + X^6 + X^5 + X^2 + 1,\n",
        " PolyF2: X^23 + X^21 + X^19 + X^15 + X^14 + X^13 + X^8 + X^5 + X^4 + X^3 + 1,\n",
        " PolyF2: X^60 + X^58 + X^55 + X^53 + X^52 + X^50 + X^49 + X^48 + X^47 + X^46 + X^44 + X^43 + X^41 + X^40 + X^38 + X^36 + X^35 + X^32 + X^31 + X^30 + X^28 + X^25 + X^24 + X^23 + X^22 + X^21 + X^19 + X^18 + X^16 + X^15 + X^13 + X^12 + X^10 + X^7 + X^2 + X^1 + 1]"
       ]
      }
     ],
     "prompt_number": 20
    },
    {
     "cell_type": "code",
     "collapsed": false,
     "input": [],
     "language": "python",
     "metadata": {},
     "outputs": []
    }
   ],
   "metadata": {}
  }
 ]
}